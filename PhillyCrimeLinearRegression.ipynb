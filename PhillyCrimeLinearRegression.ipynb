{
  "nbformat": 4,
  "nbformat_minor": 0,
  "metadata": {
    "colab": {
      "name": "PhillyCrimeLinearRegression.ipynb",
      "provenance": [],
      "authorship_tag": "ABX9TyMSJDz3UXiMg77JrEz5PA6r",
      "include_colab_link": true
    },
    "kernelspec": {
      "name": "python3",
      "display_name": "Python 3"
    },
    "language_info": {
      "name": "python"
    }
  },
  "cells": [
    {
      "cell_type": "markdown",
      "metadata": {
        "id": "view-in-github",
        "colab_type": "text"
      },
      "source": [
        "<a href=\"https://colab.research.google.com/github/millejade/Machine-Learning/blob/main/PhillyCrimeLinearRegression.ipynb\" target=\"_parent\"><img src=\"https://colab.research.google.com/assets/colab-badge.svg\" alt=\"Open In Colab\"/></a>"
      ]
    },
    {
      "cell_type": "code",
      "execution_count": null,
      "metadata": {
        "id": "-8RzGfAr6CFV"
      },
      "outputs": [],
      "source": [
        "import pandas as pd\n",
        "import numpy as np\n",
        "import seaborn as sns\n",
        "import matplotlib.pyplot as plt\n",
        "%matplotlib inline\n",
        "from sklearn.linear_model import LinearRegression"
      ]
    },
    {
      "cell_type": "code",
      "source": [
        "input = 'https://courses.cs.washington.edu/courses/cse416/18sp/notebooks/Philadelphia_Crime_Rate_noNA.csv'\n",
        "dataset  = pd.read_csv(input, sep=',')"
      ],
      "metadata": {
        "id": "uf3ExYrjRyOU"
      },
      "execution_count": null,
      "outputs": []
    },
    {
      "cell_type": "code",
      "source": [
        "dataset.loc[:, ['CrimeRate', 'HousePrice']]"
      ],
      "metadata": {
        "id": "g6KmS-PdSnMb"
      },
      "execution_count": null,
      "outputs": []
    },
    {
      "cell_type": "markdown",
      "source": [
        "### All data are included"
      ],
      "metadata": {
        "id": "4IUThVFolFhr"
      }
    },
    {
      "cell_type": "code",
      "source": [
        "input, output =  dataset[['CrimeRate']], dataset.HousePrice"
      ],
      "metadata": {
        "id": "BzdEII6_VhVF"
      },
      "execution_count": null,
      "outputs": []
    },
    {
      "cell_type": "code",
      "source": [
        "crime_model = LinearRegression().fit(input, output)"
      ],
      "metadata": {
        "id": "8wdZWlQmZD7a"
      },
      "execution_count": null,
      "outputs": []
    },
    {
      "cell_type": "code",
      "source": [
        "plt.plot(dataset['CrimeRate'],dataset['HousePrice'],'.',\n",
        "        dataset['CrimeRate'],crime_model.predict(input),'-')"
      ],
      "metadata": {
        "colab": {
          "base_uri": "https://localhost:8080/",
          "height": 304
        },
        "id": "SQ-p-o0DbfrV",
        "outputId": "92697e16-89e2-4625-a758-d630cc8c1f54"
      },
      "execution_count": null,
      "outputs": [
        {
          "output_type": "execute_result",
          "data": {
            "text/plain": [
              "[<matplotlib.lines.Line2D at 0x7fad70b0fed0>,\n",
              " <matplotlib.lines.Line2D at 0x7fad702cacd0>]"
            ]
          },
          "metadata": {},
          "execution_count": 74
        },
        {
          "output_type": "display_data",
          "data": {
            "text/plain": [
              "<Figure size 432x288 with 1 Axes>"
            ],
            "image/png": "[encoded data removed]"
          },
          "metadata": {
            "needs_background": "light"
          }
        }
      ]
    },
    {
      "cell_type": "markdown",
      "source": [
        "### Center City is Removed"
      ],
      "metadata": {
        "id": "5Sc8X4edlMUi"
      }
    },
    {
      "cell_type": "code",
      "source": [
        "data_noCenterCity = dataset[dataset['MilesPhila'] != 0.0]"
      ],
      "metadata": {
        "id": "rzNDaZYTdMtW"
      },
      "execution_count": null,
      "outputs": []
    },
    {
      "cell_type": "code",
      "source": [
        "data_noCenterCity.loc[:, ['CrimeRate', 'HousePrice']]"
      ],
      "metadata": {
        "id": "O3-r7eDXdjiw"
      },
      "execution_count": null,
      "outputs": []
    },
    {
      "cell_type": "code",
      "source": [
        "inputA, outputA =  data_noCenterCity[['CrimeRate']], data_noCenterCity.HousePrice"
      ],
      "metadata": {
        "id": "q9k084dwgFQz"
      },
      "execution_count": null,
      "outputs": []
    },
    {
      "cell_type": "code",
      "source": [
        "crime_model_noCC = LinearRegression().fit(inputA, outputA)"
      ],
      "metadata": {
        "id": "0dcv1ragdyL6"
      },
      "execution_count": null,
      "outputs": []
    },
    {
      "cell_type": "code",
      "source": [
        "plt.plot(data_noCenterCity['CrimeRate'],data_noCenterCity['HousePrice'],'.',\n",
        "        data_noCenterCity['CrimeRate'],crime_model_noCC.predict(inputA),'-')"
      ],
      "metadata": {
        "colab": {
          "base_uri": "https://localhost:8080/",
          "height": 300
        },
        "id": "LsnkMflGd11z",
        "outputId": "bdb81e65-722c-4f22-cfcc-9f6aa80ce9cf"
      },
      "execution_count": null,
      "outputs": [
        {
          "output_type": "execute_result",
          "data": {
            "text/plain": [
              "[<matplotlib.lines.Line2D at 0x7fad7017dc90>,\n",
              " <matplotlib.lines.Line2D at 0x7fad701b9890>]"
            ]
          },
          "metadata": {},
          "execution_count": 86
        },
        {
          "output_type": "display_data",
          "data": {
            "text/plain": [
              "<Figure size 432x288 with 1 Axes>"
            ],
            "image/png": "[encoded data removed]"
          },
          "metadata": {
            "needs_background": "light"
          }
        }
      ]
    },
    {
      "cell_type": "code",
      "source": [
        "print(f\"intercept = {crime_model.intercept_}\")\n",
        "print(f\"coefficient = {crime_model.coef_}\")\n",
        "print(f\"intercept with no Center City = {crime_model_noCC.intercept_}\")\n",
        "print(f\"coefficient with no Center City = {crime_model_noCC.coef_}\")"
      ],
      "metadata": {
        "colab": {
          "base_uri": "https://localhost:8080/"
        },
        "id": "X7offMmghEip",
        "outputId": "0177586c-c90d-4b80-c88c-ec15a680f73a"
      },
      "execution_count": null,
      "outputs": [
        {
          "output_type": "stream",
          "name": "stdout",
          "text": [
            "intercept = 176629.40810695427\n",
            "coefficient = [-576.90812768]\n",
            "intercept with no Center City = 225233.5518390038\n",
            "coefficient with no Center City = [-2288.68942995]\n"
          ]
        }
      ]
    },
    {
      "cell_type": "code",
      "source": [
        "plt.plot(data_noCenterCity['CrimeRate'], data_noCenterCity['HousePrice'], '.',\n",
        "         data_noCenterCity['CrimeRate'], crime_model.predict(inputA), '-',\n",
        "         data_noCenterCity['CrimeRate'], crime_model_noCC.predict(inputA), '-')"
      ],
      "metadata": {
        "colab": {
          "base_uri": "https://localhost:8080/",
          "height": 317
        },
        "id": "HAmeNqxKiqBT",
        "outputId": "09bdceb5-ddbe-4eb1-bff5-cf0398933c8b"
      },
      "execution_count": null,
      "outputs": [
        {
          "output_type": "execute_result",
          "data": {
            "text/plain": [
              "[<matplotlib.lines.Line2D at 0x7fad7010c490>,\n",
              " <matplotlib.lines.Line2D at 0x7fad700b5290>,\n",
              " <matplotlib.lines.Line2D at 0x7fad700b5410>]"
            ]
          },
          "metadata": {},
          "execution_count": 94
        },
        {
          "output_type": "display_data",
          "data": {
            "text/plain": [
              "<Figure size 432x288 with 1 Axes>"
            ],
            "image/png": "[encoded data removed]"
          },
          "metadata": {
            "needs_background": "light"
          }
        }
      ]
    },
    {
      "cell_type": "markdown",
      "source": [
        "### High End / Outlier from 350,000 to 400,000 and above are removed"
      ],
      "metadata": {
        "id": "KP4z6E8hlVHI"
      }
    },
    {
      "cell_type": "code",
      "source": [
        "sales_nohighend = data_noCenterCity[data_noCenterCity['HousePrice'] < 350000]"
      ],
      "metadata": {
        "id": "RN9qrFG5jZtU"
      },
      "execution_count": null,
      "outputs": []
    },
    {
      "cell_type": "code",
      "source": [
        "inputB, outputB =  sales_nohighend[['CrimeRate']], sales_nohighend.HousePrice"
      ],
      "metadata": {
        "id": "w8K2veT1jfEx"
      },
      "execution_count": null,
      "outputs": []
    },
    {
      "cell_type": "code",
      "source": [
        "crime_model_noHighEnd = LinearRegression().fit(inputB, outputB)"
      ],
      "metadata": {
        "id": "t9iWS7BpjwRj"
      },
      "execution_count": null,
      "outputs": []
    },
    {
      "cell_type": "code",
      "source": [
        "print(f\"intercept = {crime_model.intercept_}\")\n",
        "print(f\"coefficient = {crime_model.coef_}\")\n",
        "print(f\"intercept with no Center City = {crime_model_noCC.intercept_}\")\n",
        "print(f\"coefficient with no Center City = {crime_model_noCC.coef_}\")\n",
        "print(f\"intercept with no high end = {crime_model_noHighEnd.intercept_}\")\n",
        "print(f\"coefficient with no high end = {crime_model_noHighEnd.coef_}\")"
      ],
      "metadata": {
        "colab": {
          "base_uri": "https://localhost:8080/"
        },
        "id": "Y8FSJh79joR5",
        "outputId": "18daa540-f85d-40f3-8ad1-66d63eafbf56"
      },
      "execution_count": null,
      "outputs": [
        {
          "output_type": "stream",
          "name": "stdout",
          "text": [
            "intercept = 176629.40810695427\n",
            "coefficient = [-576.90812768]\n",
            "intercept with no Center City = 225233.5518390038\n",
            "coefficient with no Center City = [-2288.68942995]\n",
            "intercept with no high end = 199098.85266980447\n",
            "coefficient with no high end = [-1838.56264859]\n"
          ]
        }
      ]
    },
    {
      "cell_type": "code",
      "source": [
        "plt.plot(sales_nohighend['CrimeRate'], sales_nohighend['HousePrice'], '.',\n",
        "         sales_nohighend['CrimeRate'], crime_model_noHighEnd.predict(inputB), '-',\n",
        "         sales_nohighend['CrimeRate'], crime_model_noCC.predict(inputB), '-',\n",
        "         sales_nohighend['CrimeRate'], crime_model.predict(inputB), '-',)         "
      ],
      "metadata": {
        "colab": {
          "base_uri": "https://localhost:8080/",
          "height": 334
        },
        "id": "T2f4axDzkGcF",
        "outputId": "cfe218f4-924e-4741-fa2b-742b69080d36"
      },
      "execution_count": null,
      "outputs": [
        {
          "output_type": "execute_result",
          "data": {
            "text/plain": [
              "[<matplotlib.lines.Line2D at 0x7fad6ff2c9d0>,\n",
              " <matplotlib.lines.Line2D at 0x7fad6feef5d0>,\n",
              " <matplotlib.lines.Line2D at 0x7fad6feef750>,\n",
              " <matplotlib.lines.Line2D at 0x7fad6feef910>]"
            ]
          },
          "metadata": {},
          "execution_count": 103
        },
        {
          "output_type": "display_data",
          "data": {
            "text/plain": [
              "<Figure size 432x288 with 1 Axes>"
            ],
            "image/png": "[encoded data removed]"
          },
          "metadata": {
            "needs_background": "light"
          }
        }
      ]
    },
    {
      "cell_type": "markdown",
      "source": [
        "`RED LINE` : Regression line with all datapoints are included\n",
        "\n",
        "`ORANGE LINE` : Regression line with no Center City and high end outliers\n",
        "\n",
        "`GREEN LINE` : Regression line with no Center City\n",
        "\n"
      ],
      "metadata": {
        "id": "JMFxWiAgmQuM"
      }
    },
    {
      "cell_type": "code",
      "source": [
        "plt.plot(dataset['CrimeRate'], dataset['HousePrice'], '.',\n",
        "         dataset['CrimeRate'], crime_model_noHighEnd.predict(input), '-',\n",
        "         dataset['CrimeRate'], crime_model_noCC.predict(input), '-',\n",
        "         dataset['CrimeRate'], crime_model.predict(input), '-',)    "
      ],
      "metadata": {
        "colab": {
          "base_uri": "https://localhost:8080/",
          "height": 334
        },
        "id": "TrHPyUKvme2m",
        "outputId": "f6c05b7b-b642-446f-a8fc-3d8d86fb4084"
      },
      "execution_count": null,
      "outputs": [
        {
          "output_type": "execute_result",
          "data": {
            "text/plain": [
              "[<matplotlib.lines.Line2D at 0x7fad6ff7bc50>,\n",
              " <matplotlib.lines.Line2D at 0x7fad700ea550>,\n",
              " <matplotlib.lines.Line2D at 0x7fad700ea650>,\n",
              " <matplotlib.lines.Line2D at 0x7fad70156690>]"
            ]
          },
          "metadata": {},
          "execution_count": 108
        },
        {
          "output_type": "display_data",
          "data": {
            "text/plain": [
              "<Figure size 432x288 with 1 Axes>"
            ],
            "image/png": "[encoded data removed]"
          },
          "metadata": {
            "needs_background": "light"
          }
        }
      ]
    }
  ]
}