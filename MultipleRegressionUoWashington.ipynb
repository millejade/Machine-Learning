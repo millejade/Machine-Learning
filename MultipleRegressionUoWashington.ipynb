{
  "nbformat": 4,
  "nbformat_minor": 0,
  "metadata": {
    "colab": {
      "name": "MultipleRegressionUoWashington.ipynb",
      "provenance": [],
      "authorship_tag": "ABX9TyOwgawcz4SfFcsAnWX5t6k5",
      "include_colab_link": true
    },
    "kernelspec": {
      "name": "python3",
      "display_name": "Python 3"
    },
    "language_info": {
      "name": "python"
    }
  },
  "cells": [
    {
      "cell_type": "markdown",
      "metadata": {
        "id": "view-in-github",
        "colab_type": "text"
      },
      "source": [
        "<a href=\"https://colab.research.google.com/github/millejade/Machine-Learning/blob/main/MultipleRegressionUoWashington.ipynb\" target=\"_parent\"><img src=\"https://colab.research.google.com/assets/colab-badge.svg\" alt=\"Open In Colab\"/></a>"
      ]
    },
    {
      "cell_type": "code",
      "source": [
        "import pandas as pd\n",
        "import numpy as np\n",
        "import matplotlib.pyplot as plt\n",
        "from sklearn.model_selection import train_test_split\n",
        "from sklearn.linear_model import LinearRegression"
      ],
      "metadata": {
        "id": "SKUPY0aXe1cm"
      },
      "execution_count": 110,
      "outputs": []
    },
    {
      "cell_type": "code",
      "source": [
        "dtype_dict = {'bathrooms':float, 'waterfront':int, 'sqft_above':int, 'sqft_living15':int, \n",
        "              'grade':int, 'yr_renovated':int, 'price':float, 'bedrooms':int, 'zipcode':int, \n",
        "              'long':float, 'sqft_lot15':int, 'sqft_living':int, 'floors':float, 'condition':int, \n",
        "              'lat':float, 'date':str, 'sqft_basement':int, 'yr_built':int, 'id':float, 'sqft_lot':int, 'view':int}"
      ],
      "metadata": {
        "id": "ZkmO5dQ8jX-N"
      },
      "execution_count": 111,
      "outputs": []
    },
    {
      "cell_type": "code",
      "source": [
        "sales = pd.read_csv('dataset/kc_house_data.csv', dtype=dtype_dict)"
      ],
      "metadata": {
        "id": "FUub5GBOikP0"
      },
      "execution_count": 112,
      "outputs": []
    },
    {
      "cell_type": "code",
      "source": [
        "train, test = train_test_split(sales, test_size=0.2)"
      ],
      "metadata": {
        "id": "IxgF6keujd__"
      },
      "execution_count": 113,
      "outputs": []
    },
    {
      "cell_type": "code",
      "source": [
        "sample_feat, sample_target = train[['sqft_living', 'bedrooms', 'bathrooms']], train.price"
      ],
      "metadata": {
        "id": "fb2YZh63sEFW"
      },
      "execution_count": 114,
      "outputs": []
    },
    {
      "cell_type": "code",
      "source": [
        "sample_feat_test, sample_target_test = test[['sqft_living', 'bedrooms', 'bathrooms']], test.price"
      ],
      "metadata": {
        "id": "JgS4UvNtytLa"
      },
      "execution_count": 115,
      "outputs": []
    },
    {
      "cell_type": "code",
      "source": [
        "sample_model = LinearRegression().fit(sample_feat, sample_target)"
      ],
      "metadata": {
        "id": "GgJnvPfZsrrn"
      },
      "execution_count": 116,
      "outputs": []
    },
    {
      "cell_type": "code",
      "source": [
        "sample_intercept_summary = sample_model.intercept_\n",
        "sample_coef_summary = sample_model.coef_\n",
        "print(f\"Intercept: {sample_intercept_summary}\")\n",
        "print(f\"Coefficient/s: {sample_coef_summary}\")"
      ],
      "metadata": {
        "colab": {
          "base_uri": "https://localhost:8080/"
        },
        "id": "-wE1x-Gqs4kL",
        "outputId": "ac9a1b5a-8c6b-4737-d2bd-6df60813dbe3"
      },
      "execution_count": 117,
      "outputs": [
        {
          "output_type": "stream",
          "name": "stdout",
          "text": [
            "Intercept: 69979.09880341758\n",
            "Coefficient/s: [   315.09839729 -59133.04319357   7223.5542027 ]\n"
          ]
        }
      ]
    },
    {
      "cell_type": "code",
      "source": [
        "sample_pred = sample_model.predict(sample_feat)\n",
        "print(sample_pred[0])"
      ],
      "metadata": {
        "colab": {
          "base_uri": "https://localhost:8080/"
        },
        "id": "j-L2SWonxYL6",
        "outputId": "794af0fd-a331-4f73-8d66-d7412a41a0ca"
      },
      "execution_count": 118,
      "outputs": [
        {
          "output_type": "stream",
          "name": "stdout",
          "text": [
            "480966.95381695416\n"
          ]
        }
      ]
    },
    {
      "cell_type": "markdown",
      "source": [
        "Compute RSS"
      ],
      "metadata": {
        "id": "hPXemmE2x5K7"
      }
    },
    {
      "cell_type": "code",
      "source": [
        "def rss(model, data, outcome):\n",
        "  pred = model.predict(data)\n",
        "  residuals = outcome - pred\n",
        "  RSS = (residuals**2).sum()\n",
        "\n",
        "  return (RSS)"
      ],
      "metadata": {
        "id": "4vZBFGxyx66i"
      },
      "execution_count": 119,
      "outputs": []
    },
    {
      "cell_type": "code",
      "source": [
        "rss_sample_train = rss(sample_model, sample_feat_test, sample_target_test)\n",
        "print(f\"RSS = {rss_sample_train}\")"
      ],
      "metadata": {
        "colab": {
          "base_uri": "https://localhost:8080/"
        },
        "id": "EZLc8srpyQJf",
        "outputId": "d60371b7-e731-4417-a075-c1eac6a3344a"
      },
      "execution_count": 120,
      "outputs": [
        {
          "output_type": "stream",
          "name": "stdout",
          "text": [
            "RSS = 247188303816340.38\n"
          ]
        }
      ]
    },
    {
      "cell_type": "code",
      "source": [
        "from math import log"
      ],
      "metadata": {
        "id": "qWtzskGkzJdE"
      },
      "execution_count": 121,
      "outputs": []
    },
    {
      "cell_type": "code",
      "source": [
        "train_feat, train_target = train[['sqft_living', 'bedrooms', 'bathrooms', 'lat', 'long']], train.price"
      ],
      "metadata": {
        "id": "yZHOXskn20Og"
      },
      "execution_count": 122,
      "outputs": []
    },
    {
      "cell_type": "code",
      "source": [
        "test_feat, test_target = test[['sqft_living', 'bedrooms', 'bathrooms', 'lat', 'long']], test.price"
      ],
      "metadata": {
        "id": "DYCtdsjI3Ale"
      },
      "execution_count": 123,
      "outputs": []
    },
    {
      "cell_type": "code",
      "source": [
        "train_feat['bedrooms_sqrd'] = train_feat['bedrooms'].apply(lambda x: x**2)\n",
        "test_feat['bedrooms_sqrd'] = test_feat['bedrooms'].apply(lambda x: x**2)"
      ],
      "metadata": {
        "colab": {
          "base_uri": "https://localhost:8080/"
        },
        "id": "Vehue58g0pB4",
        "outputId": "03ff36c0-b67b-4b8a-96c2-855f0df5c101"
      },
      "execution_count": 124,
      "outputs": [
        {
          "output_type": "stream",
          "name": "stderr",
          "text": [
            "/usr/local/lib/python3.7/dist-packages/ipykernel_launcher.py:1: SettingWithCopyWarning: \n",
            "A value is trying to be set on a copy of a slice from a DataFrame.\n",
            "Try using .loc[row_indexer,col_indexer] = value instead\n",
            "\n",
            "See the caveats in the documentation: https://pandas.pydata.org/pandas-docs/stable/user_guide/indexing.html#returning-a-view-versus-a-copy\n",
            "  \"\"\"Entry point for launching an IPython kernel.\n",
            "/usr/local/lib/python3.7/dist-packages/ipykernel_launcher.py:2: SettingWithCopyWarning: \n",
            "A value is trying to be set on a copy of a slice from a DataFrame.\n",
            "Try using .loc[row_indexer,col_indexer] = value instead\n",
            "\n",
            "See the caveats in the documentation: https://pandas.pydata.org/pandas-docs/stable/user_guide/indexing.html#returning-a-view-versus-a-copy\n",
            "  \n"
          ]
        }
      ]
    },
    {
      "cell_type": "code",
      "source": [
        "train_feat['bed_bath_rooms'] = train_feat['bedrooms'] * train_feat['bathrooms']\n",
        "test_feat['bed_bath_rooms'] = test_feat['bedrooms'] *  test_feat['bathrooms']"
      ],
      "metadata": {
        "colab": {
          "base_uri": "https://localhost:8080/"
        },
        "id": "aSP22SX-1o1t",
        "outputId": "4041e6da-d991-4e34-a829-9792fc3d8343"
      },
      "execution_count": 125,
      "outputs": [
        {
          "output_type": "stream",
          "name": "stderr",
          "text": [
            "/usr/local/lib/python3.7/dist-packages/ipykernel_launcher.py:1: SettingWithCopyWarning: \n",
            "A value is trying to be set on a copy of a slice from a DataFrame.\n",
            "Try using .loc[row_indexer,col_indexer] = value instead\n",
            "\n",
            "See the caveats in the documentation: https://pandas.pydata.org/pandas-docs/stable/user_guide/indexing.html#returning-a-view-versus-a-copy\n",
            "  \"\"\"Entry point for launching an IPython kernel.\n",
            "/usr/local/lib/python3.7/dist-packages/ipykernel_launcher.py:2: SettingWithCopyWarning: \n",
            "A value is trying to be set on a copy of a slice from a DataFrame.\n",
            "Try using .loc[row_indexer,col_indexer] = value instead\n",
            "\n",
            "See the caveats in the documentation: https://pandas.pydata.org/pandas-docs/stable/user_guide/indexing.html#returning-a-view-versus-a-copy\n",
            "  \n"
          ]
        }
      ]
    },
    {
      "cell_type": "code",
      "source": [
        "train_feat['log_sqft_living'] = train_feat['sqft_living'].apply(lambda x: log(x))\n",
        "test_feat['log_sqft_living'] = test_feat['sqft_living'].apply(lambda x: log(x))"
      ],
      "metadata": {
        "colab": {
          "base_uri": "https://localhost:8080/"
        },
        "id": "safD3Xi32IqD",
        "outputId": "7a138c80-d881-4bb0-a584-8d56a6a61744"
      },
      "execution_count": 126,
      "outputs": [
        {
          "output_type": "stream",
          "name": "stderr",
          "text": [
            "/usr/local/lib/python3.7/dist-packages/ipykernel_launcher.py:1: SettingWithCopyWarning: \n",
            "A value is trying to be set on a copy of a slice from a DataFrame.\n",
            "Try using .loc[row_indexer,col_indexer] = value instead\n",
            "\n",
            "See the caveats in the documentation: https://pandas.pydata.org/pandas-docs/stable/user_guide/indexing.html#returning-a-view-versus-a-copy\n",
            "  \"\"\"Entry point for launching an IPython kernel.\n",
            "/usr/local/lib/python3.7/dist-packages/ipykernel_launcher.py:2: SettingWithCopyWarning: \n",
            "A value is trying to be set on a copy of a slice from a DataFrame.\n",
            "Try using .loc[row_indexer,col_indexer] = value instead\n",
            "\n",
            "See the caveats in the documentation: https://pandas.pydata.org/pandas-docs/stable/user_guide/indexing.html#returning-a-view-versus-a-copy\n",
            "  \n"
          ]
        }
      ]
    },
    {
      "cell_type": "code",
      "source": [
        "train_feat['lat_plus_long'] = train_feat['lat'] + train_feat['long']\n",
        "test_feat['lat_plus_long'] = test_feat['lat'] +  test_feat['long']"
      ],
      "metadata": {
        "colab": {
          "base_uri": "https://localhost:8080/"
        },
        "id": "c1cGkJ6b2aAK",
        "outputId": "7c234666-3123-4964-91bb-bd583d0a6353"
      },
      "execution_count": 127,
      "outputs": [
        {
          "output_type": "stream",
          "name": "stderr",
          "text": [
            "/usr/local/lib/python3.7/dist-packages/ipykernel_launcher.py:1: SettingWithCopyWarning: \n",
            "A value is trying to be set on a copy of a slice from a DataFrame.\n",
            "Try using .loc[row_indexer,col_indexer] = value instead\n",
            "\n",
            "See the caveats in the documentation: https://pandas.pydata.org/pandas-docs/stable/user_guide/indexing.html#returning-a-view-versus-a-copy\n",
            "  \"\"\"Entry point for launching an IPython kernel.\n",
            "/usr/local/lib/python3.7/dist-packages/ipykernel_launcher.py:2: SettingWithCopyWarning: \n",
            "A value is trying to be set on a copy of a slice from a DataFrame.\n",
            "Try using .loc[row_indexer,col_indexer] = value instead\n",
            "\n",
            "See the caveats in the documentation: https://pandas.pydata.org/pandas-docs/stable/user_guide/indexing.html#returning-a-view-versus-a-copy\n",
            "  \n"
          ]
        }
      ]
    },
    {
      "cell_type": "code",
      "source": [
        "train_feat[['bedrooms','bathrooms','lat','long','bedrooms_sqrd','bed_bath_rooms','log_sqft_living','lat_plus_long']].head()"
      ],
      "metadata": {
        "colab": {
          "base_uri": "https://localhost:8080/",
          "height": 270
        },
        "id": "447ENpGG3vga",
        "outputId": "6c797d15-daeb-4217-da76-120ef03dc638"
      },
      "execution_count": 128,
      "outputs": [
        {
          "output_type": "execute_result",
          "data": {
            "text/plain": [
              "       bedrooms  bathrooms      lat     long  bedrooms_sqrd  bed_bath_rooms  \\\n",
              "19141         3       2.50  47.3715 -122.126              9            7.50   \n",
              "6948          4       2.50  47.4217 -122.201             16           10.00   \n",
              "1100          5       4.50  47.5306 -122.134             25           22.50   \n",
              "14867         3       1.00  47.3636 -122.093              9            3.00   \n",
              "20183         3       2.25  47.4196 -122.193              9            6.75   \n",
              "\n",
              "       log_sqft_living  lat_plus_long  \n",
              "19141         7.501082       -74.7545  \n",
              "6948          7.659171       -74.7793  \n",
              "1100          8.711114       -74.6034  \n",
              "14867         6.966024       -74.7294  \n",
              "20183         7.253470       -74.7734  "
            ],
            "text/html": [
              "\n",
              "  <div id=\"df-5bae8ba1-0dc9-4667-8d72-2901c2040d05\">\n",
              "    <div class=\"colab-df-container\">\n",
              "      <div>\n",
              "<style scoped>\n",
              "    .dataframe tbody tr th:only-of-type {\n",
              "        vertical-align: middle;\n",
              "    }\n",
              "\n",
              "    .dataframe tbody tr th {\n",
              "        vertical-align: top;\n",
              "    }\n",
              "\n",
              "    .dataframe thead th {\n",
              "        text-align: right;\n",
              "    }\n",
              "</style>\n",
              "<table border=\"1\" class=\"dataframe\">\n",
              "  <thead>\n",
              "    <tr style=\"text-align: right;\">\n",
              "      <th></th>\n",
              "      <th>bedrooms</th>\n",
              "      <th>bathrooms</th>\n",
              "      <th>lat</th>\n",
              "      <th>long</th>\n",
              "      <th>bedrooms_sqrd</th>\n",
              "      <th>bed_bath_rooms</th>\n",
              "      <th>log_sqft_living</th>\n",
              "      <th>lat_plus_long</th>\n",
              "    </tr>\n",
              "  </thead>\n",
              "  <tbody>\n",
              "    <tr>\n",
              "      <th>19141</th>\n",
              "      <td>3</td>\n",
              "      <td>2.50</td>\n",
              "      <td>47.3715</td>\n",
              "      <td>-122.126</td>\n",
              "      <td>9</td>\n",
              "      <td>7.50</td>\n",
              "      <td>7.501082</td>\n",
              "      <td>-74.7545</td>\n",
              "    </tr>\n",
              "    <tr>\n",
              "      <th>6948</th>\n",
              "      <td>4</td>\n",
              "      <td>2.50</td>\n",
              "      <td>47.4217</td>\n",
              "      <td>-122.201</td>\n",
              "      <td>16</td>\n",
              "      <td>10.00</td>\n",
              "      <td>7.659171</td>\n",
              "      <td>-74.7793</td>\n",
              "    </tr>\n",
              "    <tr>\n",
              "      <th>1100</th>\n",
              "      <td>5</td>\n",
              "      <td>4.50</td>\n",
              "      <td>47.5306</td>\n",
              "      <td>-122.134</td>\n",
              "      <td>25</td>\n",
              "      <td>22.50</td>\n",
              "      <td>8.711114</td>\n",
              "      <td>-74.6034</td>\n",
              "    </tr>\n",
              "    <tr>\n",
              "      <th>14867</th>\n",
              "      <td>3</td>\n",
              "      <td>1.00</td>\n",
              "      <td>47.3636</td>\n",
              "      <td>-122.093</td>\n",
              "      <td>9</td>\n",
              "      <td>3.00</td>\n",
              "      <td>6.966024</td>\n",
              "      <td>-74.7294</td>\n",
              "    </tr>\n",
              "    <tr>\n",
              "      <th>20183</th>\n",
              "      <td>3</td>\n",
              "      <td>2.25</td>\n",
              "      <td>47.4196</td>\n",
              "      <td>-122.193</td>\n",
              "      <td>9</td>\n",
              "      <td>6.75</td>\n",
              "      <td>7.253470</td>\n",
              "      <td>-74.7734</td>\n",
              "    </tr>\n",
              "  </tbody>\n",
              "</table>\n",
              "</div>\n",
              "      <button class=\"colab-df-convert\" onclick=\"convertToInteractive('df-5bae8ba1-0dc9-4667-8d72-2901c2040d05')\"\n",
              "              title=\"Convert this dataframe to an interactive table.\"\n",
              "              style=\"display:none;\">\n",
              "        \n",
              "  <svg xmlns=\"http://www.w3.org/2000/svg\" height=\"24px\"viewBox=\"0 0 24 24\"\n",
              "       width=\"24px\">\n",
              "    <path d=\"M0 0h24v24H0V0z\" fill=\"none\"/>\n",
              "    <path d=\"M18.56 5.44l.94 2.06.94-2.06 2.06-.94-2.06-.94-.94-2.06-.94 2.06-2.06.94zm-11 1L8.5 8.5l.94-2.06 2.06-.94-2.06-.94L8.5 2.5l-.94 2.06-2.06.94zm10 10l.94 2.06.94-2.06 2.06-.94-2.06-.94-.94-2.06-.94 2.06-2.06.94z\"/><path d=\"M17.41 7.96l-1.37-1.37c-.4-.4-.92-.59-1.43-.59-.52 0-1.04.2-1.43.59L10.3 9.45l-7.72 7.72c-.78.78-.78 2.05 0 2.83L4 21.41c.39.39.9.59 1.41.59.51 0 1.02-.2 1.41-.59l7.78-7.78 2.81-2.81c.8-.78.8-2.07 0-2.86zM5.41 20L4 18.59l7.72-7.72 1.47 1.35L5.41 20z\"/>\n",
              "  </svg>\n",
              "      </button>\n",
              "      \n",
              "  <style>\n",
              "    .colab-df-container {\n",
              "      display:flex;\n",
              "      flex-wrap:wrap;\n",
              "      gap: 12px;\n",
              "    }\n",
              "\n",
              "    .colab-df-convert {\n",
              "      background-color: #E8F0FE;\n",
              "      border: none;\n",
              "      border-radius: 50%;\n",
              "      cursor: pointer;\n",
              "      display: none;\n",
              "      fill: #1967D2;\n",
              "      height: 32px;\n",
              "      padding: 0 0 0 0;\n",
              "      width: 32px;\n",
              "    }\n",
              "\n",
              "    .colab-df-convert:hover {\n",
              "      background-color: #E2EBFA;\n",
              "      box-shadow: 0px 1px 2px rgba(60, 64, 67, 0.3), 0px 1px 3px 1px rgba(60, 64, 67, 0.15);\n",
              "      fill: #174EA6;\n",
              "    }\n",
              "\n",
              "    [theme=dark] .colab-df-convert {\n",
              "      background-color: #3B4455;\n",
              "      fill: #D2E3FC;\n",
              "    }\n",
              "\n",
              "    [theme=dark] .colab-df-convert:hover {\n",
              "      background-color: #434B5C;\n",
              "      box-shadow: 0px 1px 3px 1px rgba(0, 0, 0, 0.15);\n",
              "      filter: drop-shadow(0px 1px 2px rgba(0, 0, 0, 0.3));\n",
              "      fill: #FFFFFF;\n",
              "    }\n",
              "  </style>\n",
              "\n",
              "      <script>\n",
              "        const buttonEl =\n",
              "          document.querySelector('#df-5bae8ba1-0dc9-4667-8d72-2901c2040d05 button.colab-df-convert');\n",
              "        buttonEl.style.display =\n",
              "          google.colab.kernel.accessAllowed ? 'block' : 'none';\n",
              "\n",
              "        async function convertToInteractive(key) {\n",
              "          const element = document.querySelector('#df-5bae8ba1-0dc9-4667-8d72-2901c2040d05');\n",
              "          const dataTable =\n",
              "            await google.colab.kernel.invokeFunction('convertToInteractive',\n",
              "                                                     [key], {});\n",
              "          if (!dataTable) return;\n",
              "\n",
              "          const docLinkHtml = 'Like what you see? Visit the ' +\n",
              "            '<a target=\"_blank\" href=https://colab.research.google.com/notebooks/data_table.ipynb>data table notebook</a>'\n",
              "            + ' to learn more about interactive tables.';\n",
              "          element.innerHTML = '';\n",
              "          dataTable['output_type'] = 'display_data';\n",
              "          await google.colab.output.renderOutput(dataTable, element);\n",
              "          const docLink = document.createElement('div');\n",
              "          docLink.innerHTML = docLinkHtml;\n",
              "          element.appendChild(docLink);\n",
              "        }\n",
              "      </script>\n",
              "    </div>\n",
              "  </div>\n",
              "  "
            ]
          },
          "metadata": {},
          "execution_count": 128
        }
      ]
    },
    {
      "cell_type": "code",
      "source": [
        "print(test_feat['bedrooms_sqrd'].mean())\n",
        "print(test_feat['bed_bath_rooms'].mean())\n",
        "print(test_feat['log_sqft_living'].mean())\n",
        "print(test_feat['lat_plus_long'].mean())"
      ],
      "metadata": {
        "colab": {
          "base_uri": "https://localhost:8080/"
        },
        "id": "o_9JKz2b4OPj",
        "outputId": "5e6e4505-dd7d-4c7f-f132-2e61c1bff7c2"
      },
      "execution_count": 129,
      "outputs": [
        {
          "output_type": "stream",
          "name": "stdout",
          "text": [
            "12.088595882489011\n",
            "7.44968771686329\n",
            "7.53908750686766\n",
            "-74.65326856349742\n"
          ]
        }
      ]
    },
    {
      "cell_type": "code",
      "source": [
        "model_1_features = train_feat[['sqft_living', 'bedrooms', 'bathrooms', 'lat', 'long']]\n",
        "model_2_features = train_feat[['sqft_living', 'bedrooms', 'bathrooms', 'lat', 'long', 'bed_bath_rooms']]\n",
        "model_3_features = train_feat[['sqft_living', 'bedrooms', 'bathrooms', 'lat', 'long', 'bed_bath_rooms', 'bedrooms_sqrd', 'log_sqft_living', 'lat_plus_long']]"
      ],
      "metadata": {
        "id": "gPGYjZgK4lla"
      },
      "execution_count": 130,
      "outputs": []
    },
    {
      "cell_type": "code",
      "source": [
        "model_1 = LinearRegression()\n",
        "model_1 = model_1.fit(model_1_features, train.price)\n",
        "model_2 = LinearRegression()\n",
        "model_2 = model_2.fit(model_2_features, train.price)\n",
        "model_3 = LinearRegression()\n",
        "model_3 = model_3.fit(model_3_features, train.price)"
      ],
      "metadata": {
        "id": "axlInKxh5FKj"
      },
      "execution_count": 131,
      "outputs": []
    },
    {
      "cell_type": "code",
      "source": [
        "print(f\"Intercept 1: {model_1.intercept_}\")\n",
        "print(f\"Coeffiecient 1: {model_1.coef_}\")\n",
        "print(\"---------------------------------------------------\")\n",
        "print(f\"Intercept 2: {model_2.intercept_}\")\n",
        "print(f\"Coeffiecient 2: {model_2.coef_}\")\n",
        "print(\"---------------------------------------------------\")\n",
        "print(f\"Intercept 3: {model_3.intercept_}\")\n",
        "print(f\"Coeffiecient 3: {model_3.coef_}\")"
      ],
      "metadata": {
        "colab": {
          "base_uri": "https://localhost:8080/"
        },
        "id": "hNwjH2XA7ufj",
        "outputId": "b4450d34-1d93-419b-9618-1c1064d01525"
      },
      "execution_count": 132,
      "outputs": [
        {
          "output_type": "stream",
          "name": "stdout",
          "text": [
            "Intercept 1: -70665153.04774949\n",
            "Coeffiecient 1: [ 3.13717831e+02 -5.45371855e+04  1.49627464e+04  6.62713544e+05\n",
            " -3.20645445e+05]\n",
            "---------------------------------------------------\n",
            "Intercept 2: -68478526.73519862\n",
            "Coeffiecient 2: [ 3.07720155e+02 -1.06905962e+05 -7.18928924e+04  6.59143004e+05\n",
            " -3.05631900e+05  2.54448776e+04]\n",
            "---------------------------------------------------\n",
            "Intercept 3: -62690546.81519629\n",
            "Coeffiecient 3: [ 5.36028782e+02 -2.77974363e+03  9.74886981e+04  5.35425734e+05\n",
            " -4.10488643e+05 -1.70012867e+04  8.11567196e+02 -5.65185364e+05\n",
            "  1.24937090e+05]\n"
          ]
        }
      ]
    },
    {
      "cell_type": "code",
      "source": [
        "rss_1 = rss(model_1, model_1_features, sample_target)\n",
        "rss_2 = rss(model_2, model_2_features, sample_target)\n",
        "rss_3 = rss(model_3, model_3_features, sample_target)\n",
        "print(f\"RSS 1 = {rss_1}\")\n",
        "print(f\"RSS 2 = {rss_2}\")\n",
        "print(f\"RSS 3 = {rss_3}\")"
      ],
      "metadata": {
        "colab": {
          "base_uri": "https://localhost:8080/"
        },
        "id": "arGt2XM487Ys",
        "outputId": "43013999-f211-450b-8d5e-2ceb4846eb48"
      },
      "execution_count": 133,
      "outputs": [
        {
          "output_type": "stream",
          "name": "stdout",
          "text": [
            "RSS 1 = 992289447385808.5\n",
            "RSS 2 = 983211026780873.2\n",
            "RSS 3 = 926843091939134.8\n"
          ]
        }
      ]
    },
    {
      "cell_type": "code",
      "source": [
        "model_1_features_test = test_feat[['sqft_living', 'bedrooms', 'bathrooms', 'lat', 'long']]\n",
        "model_2_features_test = test_feat[['sqft_living', 'bedrooms', 'bathrooms', 'lat', 'long', 'bed_bath_rooms']]\n",
        "model_3_features_test = test_feat[['sqft_living', 'bedrooms', 'bathrooms', 'lat', 'long', 'bed_bath_rooms', 'bedrooms_sqrd', 'log_sqft_living', 'lat_plus_long']]"
      ],
      "metadata": {
        "id": "E2BlxzV9-N34"
      },
      "execution_count": 134,
      "outputs": []
    },
    {
      "cell_type": "code",
      "source": [
        "rss_test_1 = rss(model_1, model_1_features_test, sample_target_test)\n",
        "rss_test_2 = rss(model_2, model_2_features_test, sample_target_test)\n",
        "rss_test_3 = rss(model_3, model_3_features_test, sample_target_test)\n",
        "print(f\"RSS 1 for test data: {rss_test_1}\")\n",
        "print(f\"RSS 2 for test data: {rss_test_2}\")\n",
        "print(f\"RSS 3 for test data: {rss_test_3}\")"
      ],
      "metadata": {
        "colab": {
          "base_uri": "https://localhost:8080/"
        },
        "id": "yGnKzjjp9mGc",
        "outputId": "24e9ae71-7690-4448-d250-d9b006b248d4"
      },
      "execution_count": 135,
      "outputs": [
        {
          "output_type": "stream",
          "name": "stdout",
          "text": [
            "RSS 1 for test data: 202560080688715.22\n",
            "RSS 2 for test data: 199894590975972.7\n",
            "RSS 3 for test data: 192107897028658.88\n"
          ]
        }
      ]
    }
  ]
}