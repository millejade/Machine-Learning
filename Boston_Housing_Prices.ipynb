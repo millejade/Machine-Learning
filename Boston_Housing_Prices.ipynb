{
  "nbformat": 4,
  "nbformat_minor": 0,
  "metadata": {
    "colab": {
      "name": "Boston_Housing_Prices.ipynb",
      "provenance": [],
      "authorship_tag": "ABX9TyPcqGJkVCa5FBodUTgW8l3j",
      "include_colab_link": true
    },
    "kernelspec": {
      "name": "python3",
      "display_name": "Python 3"
    },
    "language_info": {
      "name": "python"
    }
  },
  "cells": [
    {
      "cell_type": "markdown",
      "metadata": {
        "id": "view-in-github",
        "colab_type": "text"
      },
      "source": [
        "<a href=\"https://colab.research.google.com/github/millejade/Machine-Learning/blob/main/Boston_Housing_Prices.ipynb\" target=\"_parent\"><img src=\"https://colab.research.google.com/assets/colab-badge.svg\" alt=\"Open In Colab\"/></a>"
      ]
    },
    {
      "cell_type": "markdown",
      "source": [
        "# *`Downloading, Retrieving and Reading of Dataset: Exploring Correlation`*"
      ],
      "metadata": {
        "id": "nupmrClNPsr9"
      }
    },
    {
      "cell_type": "code",
      "source": [
        "import pandas as pd\n",
        "import plotly.express as px\n",
        "import matplotlib as mplib\n",
        "import matplotlib.pyplot as plt\n",
        "import seaborn as sns\n",
        "%matplotlib inline  "
      ],
      "metadata": {
        "id": "HOItGmYcPrfJ"
      },
      "execution_count": 114,
      "outputs": []
    },
    {
      "cell_type": "code",
      "execution_count": 115,
      "metadata": {
        "id": "MgBCopUyO9a8"
      },
      "outputs": [],
      "source": [
        "house_dataset = 'https://raw.githubusercontent.com/millejade/ML-Linear-Regressio-Datasets/main/housing.csv?token=AIV7DO3LD4PVKSH44TUKDBDB2KWDE'"
      ]
    },
    {
      "cell_type": "code",
      "source": [
        "from urllib.request import urlretrieve"
      ],
      "metadata": {
        "id": "sLsA7lHcPPoB"
      },
      "execution_count": 116,
      "outputs": []
    },
    {
      "cell_type": "code",
      "source": [
        "urlretrieve(house_dataset, 'housing.csv')"
      ],
      "metadata": {
        "id": "yKRFdzQsPbZo"
      },
      "execution_count": null,
      "outputs": []
    },
    {
      "cell_type": "code",
      "source": [
        "housing_dataframe = pd.read_csv('housing.csv', delimiter=r\"\\s+\")"
      ],
      "metadata": {
        "id": "2LMVcDteQuCl"
      },
      "execution_count": 118,
      "outputs": []
    },
    {
      "cell_type": "code",
      "source": [
        "housing_dataframe.info()"
      ],
      "metadata": {
        "id": "Bla_u4wIdwtK"
      },
      "execution_count": null,
      "outputs": []
    },
    {
      "cell_type": "code",
      "source": [
        "housing_dataframe.describe()"
      ],
      "metadata": {
        "id": "v4G1LKZwd2Bg"
      },
      "execution_count": null,
      "outputs": []
    },
    {
      "cell_type": "code",
      "source": [
        "sns.set_style('darkgrid')  # A dictionary of parameters or the name of a preconfigured style.\n",
        "mplib.rcParams['font.size'] = 10\n",
        "mplib.rcParams['figure.figsize'] = (10, 6)\n",
        "mplib.rcParams['figure.facecolor'] = '#00000000'"
      ],
      "metadata": {
        "id": "pUae1Ujra6XF"
      },
      "execution_count": 121,
      "outputs": []
    },
    {
      "cell_type": "code",
      "source": [
        "fig = px.histogram(housing_dataframe,\n",
        "                  x='CRIM',\n",
        "                  marginal='box', # the violet figure at top for min, max, q1, median, q2\n",
        "                  color_discrete_sequence=['green'],\n",
        "                  title='Distribution of Capital Crime Rate')\n",
        "fig.update_layout(bargap=0.05)  # gap between age\n",
        "fig.show()"
      ],
      "metadata": {
        "id": "nuOUcn1pbANL"
      },
      "execution_count": null,
      "outputs": []
    },
    {
      "cell_type": "code",
      "source": [
        "fig = px.histogram(housing_dataframe,\n",
        "                  x='ZN',\n",
        "                  marginal='violin', # the violet figure at top for min, max, q1, median, q2\n",
        "                  color_discrete_sequence=['red'],\n",
        "                  title='Proportion of Residential Land Zoned for lots over 25,000 sq.ft')\n",
        "fig.update_layout(bargap=0.05)  # gap between age\n",
        "fig.show()"
      ],
      "metadata": {
        "id": "NS-tD7BMkrls"
      },
      "execution_count": null,
      "outputs": []
    },
    {
      "cell_type": "code",
      "source": [
        "fig = px.histogram(housing_dataframe,\n",
        "                  x='INDUS',\n",
        "                  marginal='violin', # the violet figure at top for min, max, q1, median, q2\n",
        "                  color_discrete_sequence=['blue'],\n",
        "                  title='Proportion of Non-Retail Business Acres per Town')\n",
        "fig.update_layout(bargap=0.05)  # gap between age\n",
        "fig.show()"
      ],
      "metadata": {
        "id": "DD50uHl6ld1Z"
      },
      "execution_count": null,
      "outputs": []
    },
    {
      "cell_type": "code",
      "source": [
        "fig = px.histogram(housing_dataframe,\n",
        "                  x='CHAS',\n",
        "                  marginal='violin', # the violet figure at top for min, max, q1, median, q2\n",
        "                  color_discrete_sequence=['pink'],\n",
        "                  title='Charles River Dummy Variable')\n",
        "fig.update_layout(bargap=0.05)  # gap between age\n",
        "fig.show()"
      ],
      "metadata": {
        "id": "Z2OMXzV3l16c"
      },
      "execution_count": null,
      "outputs": []
    },
    {
      "cell_type": "code",
      "source": [
        "fig = px.histogram(housing_dataframe,\n",
        "                  x='NOX',\n",
        "                  marginal='violin', # the violet figure at top for min, max, q1, median, q2\n",
        "                  color_discrete_sequence=['violet'],\n",
        "                  title='Nitric Oxides Concentration (parts per 10 million)')\n",
        "fig.update_layout(bargap=0.05)  # gap between age\n",
        "fig.show()"
      ],
      "metadata": {
        "id": "31Z79nYnmJpq"
      },
      "execution_count": null,
      "outputs": []
    },
    {
      "cell_type": "code",
      "source": [
        "fig = px.histogram(housing_dataframe,\n",
        "                  x='RM',\n",
        "                  marginal='violin', # the violet figure at top for min, max, q1, median, q2\n",
        "                  color_discrete_sequence=['brown'],\n",
        "                  title='Average number of rooms per dwelling')\n",
        "fig.update_layout(bargap=0.05)  # gap between age\n",
        "fig.show()"
      ],
      "metadata": {
        "id": "KFYw1Bguma3p"
      },
      "execution_count": null,
      "outputs": []
    },
    {
      "cell_type": "code",
      "source": [
        "fig = px.histogram(housing_dataframe,\n",
        "                  x='AGE',\n",
        "                  marginal='violin', # the violet figure at top for min, max, q1, median, q2\n",
        "                  color_discrete_sequence=['black'],\n",
        "                  title='Proportion of owner-occupied units built prior to 1940')\n",
        "fig.update_layout(bargap=0.05)  # gap between age\n",
        "fig.show()"
      ],
      "metadata": {
        "id": "kI8eawfwpI3E"
      },
      "execution_count": null,
      "outputs": []
    },
    {
      "cell_type": "code",
      "source": [
        "fig = px.histogram(housing_dataframe,\n",
        "                  x='DIS',\n",
        "                  marginal='violin', # the violet figure at top for min, max, q1, median, q2\n",
        "                  color_discrete_sequence=['indigo'],\n",
        "                  title='Weighted distances to five Boston employment centres')\n",
        "fig.update_layout(bargap=0.05)  # gap between age\n",
        "fig.show()"
      ],
      "metadata": {
        "id": "1g-bAAK3sUhz"
      },
      "execution_count": null,
      "outputs": []
    },
    {
      "cell_type": "code",
      "source": [
        "fig = px.histogram(housing_dataframe,\n",
        "                  x='RAD',\n",
        "                  marginal='violin', # the violet figure at top for min, max, q1, median, q2\n",
        "                  color_discrete_sequence=['orange'],\n",
        "                  title='Index of accessibility to radial highways')\n",
        "fig.update_layout(bargap=0.05)  # gap between age\n",
        "fig.show()"
      ],
      "metadata": {
        "id": "sqUqzW1usgm9"
      },
      "execution_count": null,
      "outputs": []
    },
    {
      "cell_type": "code",
      "source": [
        "fig = px.histogram(housing_dataframe,\n",
        "                  x='TAX',\n",
        "                  marginal='violin', # the violet figure at top for min, max, q1, median, q2\n",
        "                  color_discrete_sequence=['purple'],\n",
        "                  title='Full-value property-tax rate per $10,000')\n",
        "fig.update_layout(bargap=0.05)  # gap between age\n",
        "fig.show()"
      ],
      "metadata": {
        "id": "0nfTdyv9svwM"
      },
      "execution_count": null,
      "outputs": []
    },
    {
      "cell_type": "code",
      "source": [
        "fig = px.histogram(housing_dataframe,\n",
        "                  x='PTRATIO',\n",
        "                  marginal='violin', # the violet figure at top for min, max, q1, median, q2\n",
        "                  color_discrete_sequence=['gray'],\n",
        "                  title='pupil-teacher ratio by town')\n",
        "fig.update_layout(bargap=0.05)  # gap between age\n",
        "fig.show()"
      ],
      "metadata": {
        "id": "rZDyTQwctLQZ"
      },
      "execution_count": null,
      "outputs": []
    },
    {
      "cell_type": "code",
      "source": [
        "fig = px.histogram(housing_dataframe,\n",
        "                  x='BK',\n",
        "                  marginal='violin', # the violet figure at top for min, max, q1, median, q2\n",
        "                  color_discrete_sequence=['darkblue'],\n",
        "                  title='B 1000(Bk - 0.63)^2 where Bk is the proportion of blacks by town')\n",
        "fig.update_layout(bargap=0.05)  # gap between age\n",
        "fig.show()"
      ],
      "metadata": {
        "id": "I2FYj_eFtuuc"
      },
      "execution_count": null,
      "outputs": []
    },
    {
      "cell_type": "code",
      "source": [
        "fig = px.histogram(housing_dataframe,\n",
        "                  x='LSTAT',\n",
        "                  marginal='violin', # the violet figure at top for min, max, q1, median, q2\n",
        "                  color_discrete_sequence=['darkgreen'],\n",
        "                  title='% lower status of the population')\n",
        "fig.update_layout(bargap=0.05)  # gap between age\n",
        "fig.show()"
      ],
      "metadata": {
        "id": "ddNw4CA6yFAN"
      },
      "execution_count": null,
      "outputs": []
    },
    {
      "cell_type": "code",
      "source": [
        "fig = px.histogram(housing_dataframe,\n",
        "                  x='MEDV',\n",
        "                  marginal='violin', # the violet figure at top for min, max, q1, median, q2\n",
        "                  color_discrete_sequence=['magenta'],\n",
        "                  title='Median value of owner-occupied homes in $1000: PRICE')\n",
        "fig.update_layout(bargap=0.05)  # gap between age\n",
        "fig.show()"
      ],
      "metadata": {
        "id": "pn699KAtyKeD"
      },
      "execution_count": null,
      "outputs": []
    },
    {
      "cell_type": "code",
      "source": [
        "print('CRIM-MEDV: ', housing_dataframe.MEDV.corr(housing_dataframe.CRIM))  # -0.38830460858681143\n",
        "print('ZN-MEDV: ', housing_dataframe.MEDV.corr(housing_dataframe.ZN))  # 0.3604453424505435\n",
        "print('INDUS-MEDV: ', housing_dataframe.MEDV.corr(housing_dataframe.INDUS)) # -0.48372516002837357\n",
        "print('CHAS-MEDV: ', housing_dataframe.MEDV.corr(housing_dataframe.CHAS)) # 0.1752601771902987\n",
        "print('NOX-MEDV: ', housing_dataframe.MEDV.corr(housing_dataframe.NOX)) # -0.4273207723732826\n",
        "print('RM-MEDV: ', housing_dataframe.MEDV.corr(housing_dataframe.RM)) # 0.6953599470715393\n",
        "print('AGE-MEDV: ', housing_dataframe.MEDV.corr(housing_dataframe.AGE)) # -0.37695456500459623\n",
        "print('DIS-MEDV: ', housing_dataframe.MEDV.corr(housing_dataframe.DIS)) # 0.24992873408590394\n",
        "print('RAD-MEDV: ', housing_dataframe.MEDV.corr(housing_dataframe.RAD)) # -0.3816262306397775\n",
        "print('TAX-MEDV: ', housing_dataframe.MEDV.corr(housing_dataframe.TAX)) # -0.46853593356776685\n",
        "print('PTRATIO-MEDV: ', housing_dataframe.MEDV.corr(housing_dataframe.PTRATIO)) # -0.5077866855375616\n",
        "print('BK-MEDV: ', housing_dataframe.MEDV.corr(housing_dataframe.BK)) # 0.3334608196570666\n",
        "print('LSTAT-MEDV: ', housing_dataframe.MEDV.corr(housing_dataframe.LSTAT)) # -0.7376627261740151"
      ],
      "metadata": {
        "id": "Q_egC8EozBq0"
      },
      "execution_count": null,
      "outputs": []
    },
    {
      "cell_type": "code",
      "source": [
        "sns.heatmap(housing_dataframe.corr(), cmap='YlGnBu', annot=True)\n",
        "plt.title('Correlation Matrix')"
      ],
      "metadata": {
        "colab": {
          "base_uri": "https://localhost:8080/",
          "height": 407
        },
        "id": "F7eIWFvI67cX",
        "outputId": "887be00e-28ed-44db-ff9f-8007393eb3a0"
      },
      "execution_count": 137,
      "outputs": [
        {
          "output_type": "execute_result",
          "data": {
            "text/plain": [
              "Text(0.5, 1.0, 'Correlation Matrix')"
            ]
          },
          "metadata": {},
          "execution_count": 137
        },
        {
          "output_type": "display_data",
          "data": {
            "image/png": "[encoded data removed]",
            "text/plain": [
              "<Figure size 720x432 with 2 Axes>"
            ]
          },
          "metadata": {
            "needs_background": "light"
          }
        }
      ]
    },
    {
      "cell_type": "markdown",
      "source": [
        "# *`Calculating Loss, Creating a Model and Optimizer`*\n",
        "\n",
        "\n",
        "\n",
        "\n",
        "\n",
        "\n"
      ],
      "metadata": {
        "id": "yDv8o0IP9R0M"
      }
    },
    {
      "cell_type": "code",
      "source": [
        "from sklearn.metrics import mean_squared_error  # for calculating loss\n",
        "from sklearn.linear_model import LinearRegression  # for creating a model\n"
      ],
      "metadata": {
        "id": "8V-UnVZN8eqa"
      },
      "execution_count": 138,
      "outputs": []
    },
    {
      "cell_type": "code",
      "source": [
        "housing_dataframe"
      ],
      "metadata": {
        "id": "gI73unPD-8HC"
      },
      "execution_count": null,
      "outputs": []
    },
    {
      "cell_type": "markdown",
      "source": [
        "### MODEL A: Feeding raw data into the model - $1^{st}$ testing"
      ],
      "metadata": {
        "id": "7NQoSNAqCMc0"
      }
    },
    {
      "cell_type": "code",
      "source": [
        "inputA, targetA = housing_dataframe[['CRIM', 'ZN', 'INDUS', 'CHAS', 'NOX', 'RM', 'AGE', \n",
        "                                     'DIS', 'RAD', 'TAX', 'PTRATIO', 'BK', 'LSTAT']], housing_dataframe.MEDV\n"
      ],
      "metadata": {
        "id": "3AqWJVA-_mwU"
      },
      "execution_count": 141,
      "outputs": []
    },
    {
      "cell_type": "code",
      "source": [
        "modelA = LinearRegression().fit(inputA, targetA)\n",
        "predA = modelA.predict(inputA)\n",
        "lossA = mean_squared_error(targetA, predA, squared=False)\n",
        "print(lossA)"
      ],
      "metadata": {
        "colab": {
          "base_uri": "https://localhost:8080/",
          "height": 0
        },
        "id": "ua5yfiDhBWzX",
        "outputId": "90f3b585-4751-4d42-a2b9-63d8eb140402"
      },
      "execution_count": 145,
      "outputs": [
        {
          "output_type": "stream",
          "name": "stdout",
          "text": [
            "4.679191295697281\n"
          ]
        }
      ]
    },
    {
      "cell_type": "markdown",
      "source": [
        "# *`Feature Scaling: Scale Numeric Variables and One-Hot Encode Categorical Data`*"
      ],
      "metadata": {
        "id": "xes-pf06IuBN"
      }
    },
    {
      "cell_type": "markdown",
      "source": [
        "### MODEL B: Use of Feature Scaling - $2^{nd}$ testing"
      ],
      "metadata": {
        "id": "KP9TzQqsCKGq"
      }
    },
    {
      "cell_type": "code",
      "source": [
        "import numpy as np\n",
        "inputB_cols = ['CRIM', 'ZN', 'INDUS', 'CHAS', 'NOX', 'RM', 'AGE', \n",
        "              'DIS', 'RAD', 'TAX', 'PTRATIO', 'BK', 'LSTAT']\n",
        "weightB_dataframe = pd.DataFrame({\n",
        "    'feature': np.append(inputB_cols, 1),\n",
        "    'weight': np.append(modelA.coef_, modelA.intercept_)\n",
        "})\n",
        "weightB_dataframe"
      ],
      "metadata": {
        "id": "t0hUrdN3CJgu"
      },
      "execution_count": null,
      "outputs": []
    },
    {
      "cell_type": "code",
      "source": [
        "# Feature Scaling\n",
        "from sklearn.preprocessing import StandardScaler"
      ],
      "metadata": {
        "id": "89Iu9l3qElHz"
      },
      "execution_count": 150,
      "outputs": []
    },
    {
      "cell_type": "code",
      "source": [
        "# For numerical data\n",
        "numerical_cols = ['CRIM', 'ZN', 'INDUS', 'CHAS', 'RM', 'AGE', \n",
        "                  'DIS', 'RAD', 'TAX', 'PTRATIO', 'BK', 'LSTAT']\n",
        "scalerB = StandardScaler()\n",
        "scalerB.fit(housing_dataframe[numerical_cols])"
      ],
      "metadata": {
        "id": "_--kygdvExFl"
      },
      "execution_count": null,
      "outputs": []
    },
    {
      "cell_type": "code",
      "source": [
        "scaled_numeric_inputB = scalerB.transform(housing_dataframe[numerical_cols]) \n",
        "# np.shape(scaled_numeric_inputB) # shape = 506 by 12 , size = 6072"
      ],
      "metadata": {
        "id": "RTBik3U7FULa"
      },
      "execution_count": 165,
      "outputs": []
    },
    {
      "cell_type": "code",
      "source": [
        "# For categorical data - NOX\n",
        "categorical_col = ['NOX']\n",
        "categorical_data = housing_dataframe[categorical_col].values\n",
        "# np.shape(categorical_data) # shape = 506 by 1 , size = 506"
      ],
      "metadata": {
        "id": "asWc8MGtFt07"
      },
      "execution_count": 159,
      "outputs": []
    },
    {
      "cell_type": "code",
      "source": [
        "scaled_inputB = np.concatenate((scaled_numeric_inputB, categorical_data), axis=1)\n",
        "# np.shape(scaled_inputB)  # shape = 506 by 13 , size = 6578"
      ],
      "metadata": {
        "id": "5AObznGcGrnO"
      },
      "execution_count": 162,
      "outputs": []
    },
    {
      "cell_type": "code",
      "source": [
        "targetB = housing_dataframe.MEDV\n",
        "modelB = LinearRegression().fit(scaled_inputB, targetB)\n",
        "predB = modelB.predict(scaled_inputB)\n",
        "lossB = mean_squared_error(targetB, predB, squared=False)\n",
        "print(lossB)"
      ],
      "metadata": {
        "colab": {
          "base_uri": "https://localhost:8080/",
          "height": 0
        },
        "id": "DuLuHUIBHc8O",
        "outputId": "8ef2c049-2c3d-46de-90eb-20979b0008e8"
      },
      "execution_count": 180,
      "outputs": [
        {
          "output_type": "stream",
          "name": "stdout",
          "text": [
            "4.679191295697282\n"
          ]
        }
      ]
    },
    {
      "cell_type": "markdown",
      "source": [
        "### Compare the weights to find the most essential feature"
      ],
      "metadata": {
        "id": "AukcSxWcJr2D"
      }
    },
    {
      "cell_type": "code",
      "source": [
        "scaled_weightB_dataframe = pd.DataFrame({\n",
        "    'feature': np.append(numerical_cols + categorical_col, 1),\n",
        "    'weight': np.append(modelB.coef_, modelB.intercept_)\n",
        "})\n",
        "scaled_weightB_dataframe.sort_values('weight', ascending=False)"
      ],
      "metadata": {
        "id": "HAoc7aEFJ3qr"
      },
      "execution_count": null,
      "outputs": []
    },
    {
      "cell_type": "markdown",
      "source": [
        "# *`Create a test set by splitting the the dataframe into 90% training set and 10% test set`*"
      ],
      "metadata": {
        "id": "h3O384jqM0ss"
      }
    },
    {
      "cell_type": "code",
      "source": [
        "from sklearn.model_selection import train_test_split\n",
        "input_train, input_test, target_train, target_test = train_test_split(inputA, targetA, test_size=0.1)\n"
      ],
      "metadata": {
        "id": "pkiiu3EsNKDA"
      },
      "execution_count": 177,
      "outputs": []
    },
    {
      "cell_type": "code",
      "source": [
        "final_model = LinearRegression().fit(input_train, target_train)"
      ],
      "metadata": {
        "id": "VHyzxVvhO66K"
      },
      "execution_count": 178,
      "outputs": []
    },
    {
      "cell_type": "markdown",
      "source": [
        "Calculate Training Loss"
      ],
      "metadata": {
        "id": "7mI5cpUKO4vz"
      }
    },
    {
      "cell_type": "code",
      "source": [
        "pred_train = final_model.predict(input_train)\n",
        "train_loss = mean_squared_error(target_train, pred_train, squared=False)\n",
        "print('Train Loss: ', train_loss)"
      ],
      "metadata": {
        "colab": {
          "base_uri": "https://localhost:8080/",
          "height": 0
        },
        "id": "DNjigJuSOQ-E",
        "outputId": "82d57b12-d358-4709-89b3-c4c1f940aba2"
      },
      "execution_count": 179,
      "outputs": [
        {
          "output_type": "stream",
          "name": "stdout",
          "text": [
            "Train Loss:  4.709720652417135\n"
          ]
        }
      ]
    },
    {
      "cell_type": "markdown",
      "source": [
        "Calculate Test Loss"
      ],
      "metadata": {
        "id": "BhkOmDwnPX6p"
      }
    },
    {
      "cell_type": "code",
      "source": [
        "pred_test = final_model.predict(input_test)\n",
        "test_loss = mean_squared_error(target_test, pred_test, squared=False)\n",
        "print('Test Loss: ', test_loss)"
      ],
      "metadata": {
        "colab": {
          "base_uri": "https://localhost:8080/",
          "height": 0
        },
        "id": "cdjpxZ5NPdiD",
        "outputId": "8eaf48b6-6a9c-4aa8-f317-3ca6bbea71ad"
      },
      "execution_count": 184,
      "outputs": [
        {
          "output_type": "stream",
          "name": "stdout",
          "text": [
            "Test Loss:  4.530124537578487\n"
          ]
        }
      ]
    }
  ]
}