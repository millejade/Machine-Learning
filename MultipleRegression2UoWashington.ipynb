{
  "nbformat": 4,
  "nbformat_minor": 0,
  "metadata": {
    "colab": {
      "name": "MultipleRegression2UoWashington.ipynb",
      "provenance": [],
      "authorship_tag": "ABX9TyPNc3y7y364rM33YaO4jm+Y",
      "include_colab_link": true
    },
    "kernelspec": {
      "name": "python3",
      "display_name": "Python 3"
    },
    "language_info": {
      "name": "python"
    }
  },
  "cells": [
    {
      "cell_type": "markdown",
      "metadata": {
        "id": "view-in-github",
        "colab_type": "text"
      },
      "source": [
        "<a href=\"https://colab.research.google.com/github/millejade/Machine-Learning/blob/main/MultipleRegression2UoWashington.ipynb\" target=\"_parent\"><img src=\"https://colab.research.google.com/assets/colab-badge.svg\" alt=\"Open In Colab\"/></a>"
      ]
    },
    {
      "cell_type": "code",
      "execution_count": 1,
      "metadata": {
        "id": "mlzY9tyo5rGb"
      },
      "outputs": [],
      "source": [
        "import pandas as pd\n",
        "import numpy as np\n",
        "import matplotlib.pyplot as plt\n",
        "from sklearn.model_selection import train_test_split\n",
        "from sklearn.linear_model import LinearRegression"
      ]
    },
    {
      "cell_type": "code",
      "source": [
        "sales = pd.read_csv('dataset/kc_house_data.csv')"
      ],
      "metadata": {
        "id": "l1LLqvHjEj7B"
      },
      "execution_count": 3,
      "outputs": []
    },
    {
      "cell_type": "code",
      "source": [
        "df = pd.DataFrame(sales)"
      ],
      "metadata": {
        "id": "QVeqmnDudsJc"
      },
      "execution_count": null,
      "outputs": []
    },
    {
      "cell_type": "code",
      "source": [
        "def get_numpy_data(data, features, output):\n",
        "  data['constant'] = 1  # add new feature to dataset\n",
        "  features = ['constant'] + features  # add new feature on feature set\n",
        "  features_df = data[features]  \n",
        "  feature_matrix = features_df.to_numpy()\n",
        "  output_array = data[output]\n",
        "  out_array = output_array.to_numpy()\n",
        "\n",
        "  return(feature_matrix, out_array)\n"
      ],
      "metadata": {
        "id": "23uJWVwpc5Xs"
      },
      "execution_count": 10,
      "outputs": []
    },
    {
      "cell_type": "code",
      "source": [
        "(example_features, example_output) = get_numpy_data(df, ['sqft_living'], 'price') # the [] around 'sqft_living' makes it a list\n",
        "print (example_features[0,:]) # this accesses the first row of the data the ':' indicates 'all columns'\n",
        "print (example_output[0]) # and the corresponding output"
      ],
      "metadata": {
        "colab": {
          "base_uri": "https://localhost:8080/"
        },
        "id": "PlB3qOP6gGFB",
        "outputId": "22edcd10-4b3d-47c5-8f30-db521bb90df1"
      },
      "execution_count": 12,
      "outputs": [
        {
          "output_type": "stream",
          "name": "stdout",
          "text": [
            "[   1 1180]\n",
            "221900.0\n"
          ]
        }
      ]
    },
    {
      "cell_type": "code",
      "source": [
        "my_weights = np.array([1., 1.])\n",
        "my_features = example_features[0, ]\n",
        "pred_val = np.dot(my_features, my_weights)\n",
        "print(pred_val)"
      ],
      "metadata": {
        "colab": {
          "base_uri": "https://localhost:8080/"
        },
        "id": "t75Ax-Z8j1an",
        "outputId": "b8bfae24-6615-423a-a3d3-2361b5d46a85"
      },
      "execution_count": 32,
      "outputs": [
        {
          "output_type": "stream",
          "name": "stdout",
          "text": [
            "1181.0\n"
          ]
        }
      ]
    },
    {
      "cell_type": "code",
      "source": [
        "def pred_out(feature_matrix, weights):\n",
        "  pred = np.dot(feature_matrix, weights)\n",
        "\n",
        "  return(pred)"
      ],
      "metadata": {
        "id": "4NCd1cKSktIf"
      },
      "execution_count": 33,
      "outputs": []
    },
    {
      "cell_type": "code",
      "source": [
        "test_predictions = pred_out(example_features, my_weights)\n",
        "print (test_predictions[0]) # should be 1181.0\n",
        "print (test_predictions[1]) # should be 2571.0"
      ],
      "metadata": {
        "colab": {
          "base_uri": "https://localhost:8080/"
        },
        "id": "nmWUK9Dtk6nT",
        "outputId": "4bc23937-323c-48d4-cf21-ea8ce341b284"
      },
      "execution_count": 34,
      "outputs": [
        {
          "output_type": "stream",
          "name": "stdout",
          "text": [
            "1181.0\n",
            "2571.0\n"
          ]
        }
      ]
    },
    {
      "cell_type": "code",
      "source": [
        "def feat_deriv(errors, feat):\n",
        "  deriv = 2*np.dot(errors, feat)\n",
        "  return(deriv)"
      ],
      "metadata": {
        "id": "RbL9t-iplbIa"
      },
      "execution_count": 35,
      "outputs": []
    },
    {
      "cell_type": "code",
      "source": [
        "(example_features, example_output) = get_numpy_data(sales, ['sqft_living'], 'price') \n",
        "my_weights = np.array([0., 0.]) # this makes all the predictions 0\n",
        "test_predictions = pred_out(example_features, my_weights) \n",
        "\n",
        "errors = test_predictions - example_output # prediction errors in this case is just the -example_output\n",
        "feature = example_features[:,0] # let's compute the derivative with respect to 'constant', the \":\" indicates \"all rows\"\n",
        "derivative = feat_deriv(errors, feature)\n",
        "print (derivative)\n",
        "print (-np.sum(example_output)*2) # should be the same as derivative"
      ],
      "metadata": {
        "colab": {
          "base_uri": "https://localhost:8080/"
        },
        "id": "SbwuP5eLlpKy",
        "outputId": "cb9df384-8e8f-4502-9d44-b0e32a0b4e7e"
      },
      "execution_count": 36,
      "outputs": [
        {
          "output_type": "stream",
          "name": "stdout",
          "text": [
            "-23349913996.0\n",
            "-23349913996.0\n"
          ]
        }
      ]
    },
    {
      "cell_type": "code",
      "source": [
        "from math import sqrt"
      ],
      "metadata": {
        "id": "cxFiuU7LlyKJ"
      },
      "execution_count": 41,
      "outputs": []
    },
    {
      "cell_type": "code",
      "source": [
        "def grad_desc(feature_matrix, output, init_weights, step_size, tolerance):\n",
        "  converge = False\n",
        "  weights = np.array(init_weights)\n",
        "\n",
        "  while not converge:\n",
        "    pred = pred_out(feature_matrix, weights)\n",
        "    errors = pred - output\n",
        "    grad_sum_squares = 0  # initialization\n",
        "\n",
        "    for i in range(len(weights)):\n",
        "      deriv = feat_deriv(errors, feature_matrix[:, i])\n",
        "      grad_sum_squares += (deriv**2)\n",
        "      weights[i] -= (step_size * deriv)\n",
        "\n",
        "    grad_magnitude = sqrt(grad_sum_squares)\n",
        "    if grad_magnitude < tolerance:\n",
        "      converge = True\n",
        "    \n",
        "    return(weights)\n"
      ],
      "metadata": {
        "id": "BeX98B-2mLCD"
      },
      "execution_count": 42,
      "outputs": []
    },
    {
      "cell_type": "code",
      "source": [
        "train, test = train_test_split(df, test_size=0.2)"
      ],
      "metadata": {
        "id": "sTu7wsswraZl"
      },
      "execution_count": 43,
      "outputs": []
    },
    {
      "cell_type": "code",
      "source": [
        "simple_feat = ['sqft_living']\n",
        "my_target = 'price'\n",
        "(simple_feat_matrix, target) = get_numpy_data(train, simple_feat, my_target)\n",
        "init_weights = np.array([-47000., 1.])\n",
        "step_size = 7e-12\n",
        "tolerance = 2.5e7"
      ],
      "metadata": {
        "id": "plQJR8rrrinD"
      },
      "execution_count": 44,
      "outputs": []
    },
    {
      "cell_type": "code",
      "source": [
        "test_weight = grad_desc(simple_feat_matrix, target, init_weights, step_size, tolerance)\n",
        "print(test_weight)"
      ],
      "metadata": {
        "colab": {
          "base_uri": "https://localhost:8080/"
        },
        "id": "IrfD-HT-sFq-",
        "outputId": "33334077-3356-421a-8f0b-71a4778f38c8"
      },
      "execution_count": 45,
      "outputs": [
        {
          "output_type": "stream",
          "name": "stdout",
          "text": [
            "[-46999.85786137    356.0781142 ]\n"
          ]
        }
      ]
    },
    {
      "cell_type": "code",
      "source": [
        "(test_simple_feat_matrix, test_target) = get_numpy_data(test, simple_feat, my_target)\n"
      ],
      "metadata": {
        "id": "pBtGHEk2sgi_"
      },
      "execution_count": 46,
      "outputs": []
    },
    {
      "cell_type": "code",
      "source": [
        "test_weight"
      ],
      "metadata": {
        "id": "JFM-sW2UtMxk"
      },
      "execution_count": null,
      "outputs": []
    },
    {
      "cell_type": "code",
      "source": [
        "test_simple_feat_matrix"
      ],
      "metadata": {
        "id": "oeQg2czmtPM9"
      },
      "execution_count": null,
      "outputs": []
    },
    {
      "cell_type": "code",
      "source": [
        "test_pred = pred_out(test_simple_feat_matrix, test_weight)\n",
        "print(test_pred)"
      ],
      "metadata": {
        "colab": {
          "base_uri": "https://localhost:8080/"
        },
        "id": "Xhh2uTdvsvvD",
        "outputId": "8a59a557-e9b3-4ff9-ca33-a2ac1f988fb5"
      },
      "execution_count": 52,
      "outputs": [
        {
          "output_type": "stream",
          "name": "stdout",
          "text": [
            "[ 494238.87571524 1135179.48126649  704324.96309037 ...  472874.18886353\n",
            "  672277.93281281  860999.33333623]\n"
          ]
        }
      ]
    },
    {
      "cell_type": "code",
      "source": [
        "test_pred[0]"
      ],
      "metadata": {
        "colab": {
          "base_uri": "https://localhost:8080/"
        },
        "id": "j8CiIPV7th5m",
        "outputId": "9706b72d-402f-48a3-da0f-b94dc4098105"
      },
      "execution_count": 53,
      "outputs": [
        {
          "output_type": "execute_result",
          "data": {
            "text/plain": [
              "494238.87571524"
            ]
          },
          "metadata": {},
          "execution_count": 53
        }
      ]
    },
    {
      "cell_type": "code",
      "source": [
        "test_resi = test_target - test_pred\n",
        "test_RSS = (test_resi**2).sum()\n",
        "print(test_RSS)"
      ],
      "metadata": {
        "colab": {
          "base_uri": "https://localhost:8080/"
        },
        "id": "SktRUKMhtnsc",
        "outputId": "1402916d-3a5a-4658-9978-d44f9e425255"
      },
      "execution_count": 54,
      "outputs": [
        {
          "output_type": "stream",
          "name": "stdout",
          "text": [
            "389646275542472.5\n"
          ]
        }
      ]
    },
    {
      "cell_type": "markdown",
      "source": [
        "RUNNING A MULTIPLE REGRESSION"
      ],
      "metadata": {
        "id": "GwxrPsKkt5rZ"
      }
    },
    {
      "cell_type": "code",
      "source": [
        "model_feat = ['sqft_living', 'sqft_living15']\n",
        "my_output = 'price'\n",
        "(feat_matrix, output) = get_numpy_data(train, model_feat, my_output)\n",
        "init_W = np.array([-100000., 1., 1.])\n",
        "step = 4e-12\n",
        "tol = 1e9"
      ],
      "metadata": {
        "id": "by0OPOwOt8RN"
      },
      "execution_count": 55,
      "outputs": []
    },
    {
      "cell_type": "code",
      "source": [
        "weight = grad_desc(feat_matrix, output, init_W, step, tol)\n",
        "print(weight)"
      ],
      "metadata": {
        "colab": {
          "base_uri": "https://localhost:8080/"
        },
        "id": "4IIiG_mnujIX",
        "outputId": "6db4d472-4484-4512-b1b0-aeda69f38a57"
      },
      "execution_count": 56,
      "outputs": [
        {
          "output_type": "stream",
          "name": "stdout",
          "text": [
            "[-99999.91172181    218.5321808     197.16193752]\n"
          ]
        }
      ]
    },
    {
      "cell_type": "code",
      "source": [
        "(test_feat_matrix, test_out) = get_numpy_data(test, model_feat, my_output)\n",
        "\n",
        "test_pred_2 = pred_out(test_feat_matrix, weight)\n",
        "print(test_pred_2)"
      ],
      "metadata": {
        "colab": {
          "base_uri": "https://localhost:8080/"
        },
        "id": "ejnY6G5yu3MO",
        "outputId": "89012331-1328-4a5d-ed46-0e7ce248b714"
      },
      "execution_count": 58,
      "outputs": [
        {
          "output_type": "stream",
          "name": "stdout",
          "text": [
            "[ 587060.49063006 1280104.5610999   865837.54981725 ...  540431.0304036\n",
            "  619433.42539657  916644.46373912]\n"
          ]
        }
      ]
    },
    {
      "cell_type": "code",
      "source": [
        "print(test_pred_2[0])"
      ],
      "metadata": {
        "colab": {
          "base_uri": "https://localhost:8080/"
        },
        "id": "EMMZZp-7vfjR",
        "outputId": "42a29f46-fceb-473f-e7db-cae99dd6ce52"
      },
      "execution_count": 59,
      "outputs": [
        {
          "output_type": "stream",
          "name": "stdout",
          "text": [
            "587060.4906300638\n"
          ]
        }
      ]
    },
    {
      "cell_type": "code",
      "source": [
        "outt = test['price'].to_numpy()\n",
        "print(outt[0])"
      ],
      "metadata": {
        "colab": {
          "base_uri": "https://localhost:8080/"
        },
        "id": "UYTI0Kn2vmaM",
        "outputId": "0c6c3ba5-8cf7-41be-b2e1-ffc905347922"
      },
      "execution_count": 69,
      "outputs": [
        {
          "output_type": "stream",
          "name": "stdout",
          "text": [
            "413000.0\n"
          ]
        }
      ]
    },
    {
      "cell_type": "code",
      "source": [
        "test_resi_2 = test_out - test_pred_2\n",
        "test_RSS_2 = (test_resi_2**2).sum()\n",
        "print(test_RSS_2)"
      ],
      "metadata": {
        "colab": {
          "base_uri": "https://localhost:8080/"
        },
        "id": "h8YGw3JTxOeM",
        "outputId": "897345cb-b1c0-46a8-cd19-c8b76eaf5094"
      },
      "execution_count": 70,
      "outputs": [
        {
          "output_type": "stream",
          "name": "stdout",
          "text": [
            "473902374832350.2\n"
          ]
        }
      ]
    }
  ]
}